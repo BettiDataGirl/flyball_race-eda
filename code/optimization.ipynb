{
 "cells": [
  {
   "cell_type": "markdown",
   "id": "a501270e-3df7-4a53-b341-b3c6363398ea",
   "metadata": {},
   "source": [
    "## FLYBALL OPTIMIZATION \n",
    "Építsetek egy modellt, amely optimalizálja a csapatösszeállításokat az ismert adatok (kutyák alapadatai, kutyák sorrendje, akadályok magassága, időjárási körülmények) függvényében. "
   ]
  },
  {
   "cell_type": "code",
   "execution_count": 3,
   "id": "a0b4fa20-58fa-4140-a615-a4b627d72115",
   "metadata": {
    "tags": []
   },
   "outputs": [],
   "source": [
    "import pandas as pd\n",
    "import sasoptpy as so\n",
    "import os\n",
    "import time"
   ]
  },
  {
   "cell_type": "markdown",
   "id": "23735846-9af8-4536-9bd7-19f60bd26970",
   "metadata": {
    "tags": []
   },
   "source": [
    "### ADAT"
   ]
  },
  {
   "cell_type": "code",
   "execution_count": 9,
   "id": "1612b6c9-994b-4eb6-b082-0dcdc64577dc",
   "metadata": {
    "tags": []
   },
   "outputs": [],
   "source": [
    "#beolvassunk 3 táblát, amik a kutyák adatait tartalmazzák:\n",
    "\n",
    "#kutya_all_features\n",
    "opt1 = pd.read_csv('./../data/kutya_all_features.csv', index_col = [0])\n",
    "\n",
    "#flyball_weather\n",
    "opt2 = pd.read_csv('./../data/flyball_weather.csv', index_col = [0])\n",
    "\n",
    "#dog_hurdle\n",
    "opt3 = pd.read_csv('./../data/dog_hurdle.csv', index_col = [0])\n",
    "\n",
    "#rank_df\n",
    "opt4 = pd.read_csv('./../data/rank_df.csv', index_col = [0])"
   ]
  },
  {
   "cell_type": "code",
   "execution_count": 17,
   "id": "947a808e-0845-45bf-ae32-23dd8b92cde8",
   "metadata": {
    "tags": []
   },
   "outputs": [
    {
     "data": {
      "text/html": [
       "<div>\n",
       "<style scoped>\n",
       "    .dataframe tbody tr th:only-of-type {\n",
       "        vertical-align: middle;\n",
       "    }\n",
       "\n",
       "    .dataframe tbody tr th {\n",
       "        vertical-align: top;\n",
       "    }\n",
       "\n",
       "    .dataframe thead th {\n",
       "        text-align: right;\n",
       "    }\n",
       "</style>\n",
       "<table border=\"1\" class=\"dataframe\">\n",
       "  <thead>\n",
       "    <tr style=\"text-align: right;\">\n",
       "      <th></th>\n",
       "      <th>index</th>\n",
       "      <th>r_min</th>\n",
       "      <th>r_median</th>\n",
       "      <th>r_mean</th>\n",
       "      <th>r_max</th>\n",
       "      <th>kutya_ev_honapok</th>\n",
       "      <th>Border/Other</th>\n",
       "      <th>min</th>\n",
       "      <th>median</th>\n",
       "      <th>mean</th>\n",
       "      <th>max</th>\n",
       "      <th>futasok_szama</th>\n",
       "      <th>valto_hiba</th>\n",
       "      <th>start_hiba</th>\n",
       "      <th>futas_hiba</th>\n",
       "      <th>összes_hiba</th>\n",
       "      <th>hiba_szazalek</th>\n",
       "    </tr>\n",
       "  </thead>\n",
       "  <tbody>\n",
       "    <tr>\n",
       "      <th>0</th>\n",
       "      <td>Abby</td>\n",
       "      <td>0.00</td>\n",
       "      <td>0.22</td>\n",
       "      <td>0.31</td>\n",
       "      <td>1.25</td>\n",
       "      <td>55</td>\n",
       "      <td>Border</td>\n",
       "      <td>4.32</td>\n",
       "      <td>4.51</td>\n",
       "      <td>4.75</td>\n",
       "      <td>5.75</td>\n",
       "      <td>64.0</td>\n",
       "      <td>8.0</td>\n",
       "      <td>0.0</td>\n",
       "      <td>0.0</td>\n",
       "      <td>8.0</td>\n",
       "      <td>12.50</td>\n",
       "    </tr>\n",
       "    <tr>\n",
       "      <th>1</th>\n",
       "      <td>Agnes</td>\n",
       "      <td>0.13</td>\n",
       "      <td>0.56</td>\n",
       "      <td>0.57</td>\n",
       "      <td>1.45</td>\n",
       "      <td>101</td>\n",
       "      <td>Border</td>\n",
       "      <td>4.55</td>\n",
       "      <td>4.73</td>\n",
       "      <td>5.02</td>\n",
       "      <td>7.19</td>\n",
       "      <td>33.0</td>\n",
       "      <td>4.0</td>\n",
       "      <td>0.0</td>\n",
       "      <td>1.0</td>\n",
       "      <td>5.0</td>\n",
       "      <td>15.15</td>\n",
       "    </tr>\n",
       "    <tr>\n",
       "      <th>2</th>\n",
       "      <td>Alex</td>\n",
       "      <td>0.00</td>\n",
       "      <td>0.15</td>\n",
       "      <td>0.15</td>\n",
       "      <td>0.55</td>\n",
       "      <td>118</td>\n",
       "      <td>Border</td>\n",
       "      <td>4.02</td>\n",
       "      <td>4.27</td>\n",
       "      <td>4.27</td>\n",
       "      <td>4.56</td>\n",
       "      <td>130.0</td>\n",
       "      <td>5.0</td>\n",
       "      <td>0.0</td>\n",
       "      <td>1.0</td>\n",
       "      <td>6.0</td>\n",
       "      <td>4.62</td>\n",
       "    </tr>\n",
       "    <tr>\n",
       "      <th>3</th>\n",
       "      <td>Alfie</td>\n",
       "      <td>0.00</td>\n",
       "      <td>0.13</td>\n",
       "      <td>0.13</td>\n",
       "      <td>0.89</td>\n",
       "      <td>71</td>\n",
       "      <td>Other</td>\n",
       "      <td>3.79</td>\n",
       "      <td>3.98</td>\n",
       "      <td>3.99</td>\n",
       "      <td>4.36</td>\n",
       "      <td>218.0</td>\n",
       "      <td>20.0</td>\n",
       "      <td>0.0</td>\n",
       "      <td>3.0</td>\n",
       "      <td>23.0</td>\n",
       "      <td>10.55</td>\n",
       "    </tr>\n",
       "    <tr>\n",
       "      <th>4</th>\n",
       "      <td>Angie</td>\n",
       "      <td>0.00</td>\n",
       "      <td>0.43</td>\n",
       "      <td>0.48</td>\n",
       "      <td>1.55</td>\n",
       "      <td>120</td>\n",
       "      <td>Border</td>\n",
       "      <td>5.07</td>\n",
       "      <td>5.50</td>\n",
       "      <td>5.72</td>\n",
       "      <td>8.36</td>\n",
       "      <td>34.0</td>\n",
       "      <td>3.0</td>\n",
       "      <td>0.0</td>\n",
       "      <td>3.0</td>\n",
       "      <td>6.0</td>\n",
       "      <td>17.65</td>\n",
       "    </tr>\n",
       "  </tbody>\n",
       "</table>\n",
       "</div>"
      ],
      "text/plain": [
       "   index  r_min  r_median  r_mean  r_max  kutya_ev_honapok Border/Other   min  \\\n",
       "0   Abby   0.00      0.22    0.31   1.25                55       Border  4.32   \n",
       "1  Agnes   0.13      0.56    0.57   1.45               101       Border  4.55   \n",
       "2   Alex   0.00      0.15    0.15   0.55               118       Border  4.02   \n",
       "3  Alfie   0.00      0.13    0.13   0.89                71        Other  3.79   \n",
       "4  Angie   0.00      0.43    0.48   1.55               120       Border  5.07   \n",
       "\n",
       "   median  mean   max  futasok_szama  valto_hiba  start_hiba  futas_hiba  \\\n",
       "0    4.51  4.75  5.75           64.0         8.0         0.0         0.0   \n",
       "1    4.73  5.02  7.19           33.0         4.0         0.0         1.0   \n",
       "2    4.27  4.27  4.56          130.0         5.0         0.0         1.0   \n",
       "3    3.98  3.99  4.36          218.0        20.0         0.0         3.0   \n",
       "4    5.50  5.72  8.36           34.0         3.0         0.0         3.0   \n",
       "\n",
       "   összes_hiba  hiba_szazalek  \n",
       "0          8.0          12.50  \n",
       "1          5.0          15.15  \n",
       "2          6.0           4.62  \n",
       "3         23.0          10.55  \n",
       "4          6.0          17.65  "
      ]
     },
     "execution_count": 17,
     "metadata": {},
     "output_type": "execute_result"
    }
   ],
   "source": [
    "#Adatok: mi kell a modellezéshez\n",
    "\n",
    "opt1.reset_index(inplace=True)\n",
    "opt1.head()"
   ]
  },
  {
   "cell_type": "code",
   "execution_count": null,
   "id": "31664b3f-82b5-40c5-8d08-81455d6660d0",
   "metadata": {},
   "outputs": [],
   "source": []
  },
  {
   "cell_type": "markdown",
   "id": "543fa1d9-3dad-4e5b-a05e-6845dc1c57b6",
   "metadata": {
    "tags": []
   },
   "source": [
    "### Modellépítés"
   ]
  },
  {
   "cell_type": "code",
   "execution_count": 16,
   "id": "9f7e5f36-ad6d-4dc0-98c6-ed320ac88fef",
   "metadata": {
    "tags": []
   },
   "outputs": [
    {
     "name": "stdout",
     "output_type": "stream",
     "text": [
      "NOTE: Initialized model Flyball_model.\n"
     ]
    }
   ],
   "source": [
    "model = so.Model(name='Flyball_model')"
   ]
  },
  {
   "cell_type": "code",
   "execution_count": 18,
   "id": "00647e92-7527-4063-a92b-5f3ea8d4b02c",
   "metadata": {
    "tags": []
   },
   "outputs": [
    {
     "data": {
      "text/plain": [
       "count     50.000000\n",
       "mean      89.380000\n",
       "std       60.949591\n",
       "min        5.000000\n",
       "25%       41.250000\n",
       "50%       71.500000\n",
       "75%      130.000000\n",
       "max      227.000000\n",
       "Name: futasok_szama, dtype: float64"
      ]
     },
     "execution_count": 18,
     "metadata": {},
     "output_type": "execute_result"
    }
   ],
   "source": [
    "#az összes kutya közül válogassunk?\n",
    "opt1['futasok_szama'].describe()"
   ]
  },
  {
   "cell_type": "code",
   "execution_count": 20,
   "id": "8ac3f15a-58e4-4d28-860d-6fb7d20db070",
   "metadata": {
    "tags": []
   },
   "outputs": [],
   "source": [
    "#kutyák listába:\n",
    "kutyak = opt1.index.tolist()\n"
   ]
  },
  {
   "cell_type": "code",
   "execution_count": 21,
   "id": "dca3f51e-136c-428e-ba71-fc1da8781a4d",
   "metadata": {
    "tags": []
   },
   "outputs": [],
   "source": [
    "#Változók bevezetése: a váltó négy helyén futó négy kutya\n",
    "\n",
    "valto_1 = model.add_variables(kutyak, name='valto_1', vartype=so.binary)\n",
    "\n",
    "valto_2 = model.add_variables(kutyak, name='valto_2', vartype=so.binary)\n",
    "\n",
    "valto_3 = model.add_variables(kutyak, name='valto_3', vartype=so.binary)\n",
    "\n",
    "valto_4 = model.add_variables(kutyak, name='valto_4', vartype=so.binary)"
   ]
  },
  {
   "cell_type": "code",
   "execution_count": 22,
   "id": "383eaa41-2d42-4db6-9362-7e4efd3f2fca",
   "metadata": {
    "tags": []
   },
   "outputs": [
    {
     "data": {
      "text/plain": [
       "sasoptpy.Variable(name='valto_1[3]', lb=0, ub=1, vartype='BIN')"
      ]
     },
     "execution_count": 22,
     "metadata": {},
     "output_type": "execute_result"
    }
   ],
   "source": [
    "valto_1[3]"
   ]
  },
  {
   "cell_type": "code",
   "execution_count": 24,
   "id": "194feb43-f717-4bfe-ade0-b49f57113538",
   "metadata": {
    "tags": []
   },
   "outputs": [],
   "source": [
    "#Object: a váltó négy helyén futó négy kutya medián idejének az összege\n",
    "\n",
    "total_time = so.expr_sum(valto_1[i] * opt1.loc[i, 'median'] for i in kutyak) \\\n",
    "+ so.expr_sum(valto_2[i] * opt1.loc[i, 'median'] for i in kutyak) \\\n",
    "+ so.expr_sum(valto_3[i] * opt1.loc[i, 'median'] for i in kutyak) \\\n",
    "+ so.expr_sum(valto_4[i] * opt1.loc[i, 'median'] for i in kutyak)"
   ]
  },
  {
   "cell_type": "code",
   "execution_count": 25,
   "id": "d6e139ec-fb0d-400a-ab8d-60acffc8b01a",
   "metadata": {
    "tags": []
   },
   "outputs": [
    {
     "data": {
      "text/plain": [
       "sasoptpy.Expression(exp = 4.51 * valto_1[0] + 4.73 * valto_1[1] + 4.27 * valto_1[2] + 3.98 * valto_1[3] + 5.5 * valto_1[4] + 4.19 * valto_1[5] + 4.26 * valto_1[6] + 4.66 * valto_1[7] + 4.7 * valto_1[8] + 4.23 * valto_1[9] + 4.21 * valto_1[10] + 4.58 * valto_1[11] + 4.21 * valto_1[12] + 4.78 * valto_1[13] + 4.04 * valto_1[14] + 4.57 * valto_1[15] + 4.29 * valto_1[16] + 6.23 * valto_1[17] + 4.46 * valto_1[18] + 3.96 * valto_1[19] + 4.15 * valto_1[20] + 4.4 * valto_1[21] + 4.51 * valto_1[22] + 6.92 * valto_1[23] + 4.57 * valto_1[24] + 4.23 * valto_1[25] + 4.76 * valto_1[26] + 5.85 * valto_1[27] + 5.01 * valto_1[28] + 8.68 * valto_1[29] + 4.93 * valto_1[30] + 4.03 * valto_1[31] + 4.72 * valto_1[32] + 4.3 * valto_1[33] + 3.96 * valto_1[34] + 4.95 * valto_1[35] + 4.14 * valto_1[36] + 4.09 * valto_1[37] + 5.91 * valto_1[38] + 5.04 * valto_1[39] + 4.5 * valto_1[40] + 5.18 * valto_1[41] + 4.55 * valto_1[42] + 4.77 * valto_1[43] + 4.06 * valto_1[44] + 5.11 * valto_1[45] + 4.07 * valto_1[46] + 4.72 * valto_1[47] + 5.48 * valto_1[48] + 4.04 * valto_1[49] + 4.51 * valto_2[0] + 4.73 * valto_2[1] + 4.27 * valto_2[2] + 3.98 * valto_2[3] + 5.5 * valto_2[4] + 4.19 * valto_2[5] + 4.26 * valto_2[6] + 4.66 * valto_2[7] + 4.7 * valto_2[8] + 4.23 * valto_2[9] + 4.21 * valto_2[10] + 4.58 * valto_2[11] + 4.21 * valto_2[12] + 4.78 * valto_2[13] + 4.04 * valto_2[14] + 4.57 * valto_2[15] + 4.29 * valto_2[16] + 6.23 * valto_2[17] + 4.46 * valto_2[18] + 3.96 * valto_2[19] + 4.15 * valto_2[20] + 4.4 * valto_2[21] + 4.51 * valto_2[22] + 6.92 * valto_2[23] + 4.57 * valto_2[24] + 4.23 * valto_2[25] + 4.76 * valto_2[26] + 5.85 * valto_2[27] + 5.01 * valto_2[28] + 8.68 * valto_2[29] + 4.93 * valto_2[30] + 4.03 * valto_2[31] + 4.72 * valto_2[32] + 4.3 * valto_2[33] + 3.96 * valto_2[34] + 4.95 * valto_2[35] + 4.14 * valto_2[36] + 4.09 * valto_2[37] + 5.91 * valto_2[38] + 5.04 * valto_2[39] + 4.5 * valto_2[40] + 5.18 * valto_2[41] + 4.55 * valto_2[42] + 4.77 * valto_2[43] + 4.06 * valto_2[44] + 5.11 * valto_2[45] + 4.07 * valto_2[46] + 4.72 * valto_2[47] + 5.48 * valto_2[48] + 4.04 * valto_2[49] + 4.51 * valto_3[0] + 4.73 * valto_3[1] + 4.27 * valto_3[2] + 3.98 * valto_3[3] + 5.5 * valto_3[4] + 4.19 * valto_3[5] + 4.26 * valto_3[6] + 4.66 * valto_3[7] + 4.7 * valto_3[8] + 4.23 * valto_3[9] + 4.21 * valto_3[10] + 4.58 * valto_3[11] + 4.21 * valto_3[12] + 4.78 * valto_3[13] + 4.04 * valto_3[14] + 4.57 * valto_3[15] + 4.29 * valto_3[16] + 6.23 * valto_3[17] + 4.46 * valto_3[18] + 3.96 * valto_3[19] + 4.15 * valto_3[20] + 4.4 * valto_3[21] + 4.51 * valto_3[22] + 6.92 * valto_3[23] + 4.57 * valto_3[24] + 4.23 * valto_3[25] + 4.76 * valto_3[26] + 5.85 * valto_3[27] + 5.01 * valto_3[28] + 8.68 * valto_3[29] + 4.93 * valto_3[30] + 4.03 * valto_3[31] + 4.72 * valto_3[32] + 4.3 * valto_3[33] + 3.96 * valto_3[34] + 4.95 * valto_3[35] + 4.14 * valto_3[36] + 4.09 * valto_3[37] + 5.91 * valto_3[38] + 5.04 * valto_3[39] + 4.5 * valto_3[40] + 5.18 * valto_3[41] + 4.55 * valto_3[42] + 4.77 * valto_3[43] + 4.06 * valto_3[44] + 5.11 * valto_3[45] + 4.07 * valto_3[46] + 4.72 * valto_3[47] + 5.48 * valto_3[48] + 4.04 * valto_3[49] + 4.51 * valto_4[0] + 4.73 * valto_4[1] + 4.27 * valto_4[2] + 3.98 * valto_4[3] + 5.5 * valto_4[4] + 4.19 * valto_4[5] + 4.26 * valto_4[6] + 4.66 * valto_4[7] + 4.7 * valto_4[8] + 4.23 * valto_4[9] + 4.21 * valto_4[10] + 4.58 * valto_4[11] + 4.21 * valto_4[12] + 4.78 * valto_4[13] + 4.04 * valto_4[14] + 4.57 * valto_4[15] + 4.29 * valto_4[16] + 6.23 * valto_4[17] + 4.46 * valto_4[18] + 3.96 * valto_4[19] + 4.15 * valto_4[20] + 4.4 * valto_4[21] + 4.51 * valto_4[22] + 6.92 * valto_4[23] + 4.57 * valto_4[24] + 4.23 * valto_4[25] + 4.76 * valto_4[26] + 5.85 * valto_4[27] + 5.01 * valto_4[28] + 8.68 * valto_4[29] + 4.93 * valto_4[30] + 4.03 * valto_4[31] + 4.72 * valto_4[32] + 4.3 * valto_4[33] + 3.96 * valto_4[34] + 4.95 * valto_4[35] + 4.14 * valto_4[36] + 4.09 * valto_4[37] + 5.91 * valto_4[38] + 5.04 * valto_4[39] + 4.5 * valto_4[40] + 5.18 * valto_4[41] + 4.55 * valto_4[42] + 4.77 * valto_4[43] + 4.06 * valto_4[44] + 5.11 * valto_4[45] + 4.07 * valto_4[46] + 4.72 * valto_4[47] + 5.48 * valto_4[48] + 4.04 * valto_4[49], name=None)"
      ]
     },
     "execution_count": 25,
     "metadata": {},
     "output_type": "execute_result"
    }
   ],
   "source": [
    "total_time"
   ]
  },
  {
   "cell_type": "code",
   "execution_count": 26,
   "id": "3431fae9-fcb3-4e0f-af6a-e6d69a2ba7bd",
   "metadata": {
    "tags": []
   },
   "outputs": [
    {
     "data": {
      "text/plain": [
       "sasoptpy.Expression(exp = 4.51 * valto_1[0] + 4.73 * valto_1[1] + 4.27 * valto_1[2] + 3.98 * valto_1[3] + 5.5 * valto_1[4] + 4.19 * valto_1[5] + 4.26 * valto_1[6] + 4.66 * valto_1[7] + 4.7 * valto_1[8] + 4.23 * valto_1[9] + 4.21 * valto_1[10] + 4.58 * valto_1[11] + 4.21 * valto_1[12] + 4.78 * valto_1[13] + 4.04 * valto_1[14] + 4.57 * valto_1[15] + 4.29 * valto_1[16] + 6.23 * valto_1[17] + 4.46 * valto_1[18] + 3.96 * valto_1[19] + 4.15 * valto_1[20] + 4.4 * valto_1[21] + 4.51 * valto_1[22] + 6.92 * valto_1[23] + 4.57 * valto_1[24] + 4.23 * valto_1[25] + 4.76 * valto_1[26] + 5.85 * valto_1[27] + 5.01 * valto_1[28] + 8.68 * valto_1[29] + 4.93 * valto_1[30] + 4.03 * valto_1[31] + 4.72 * valto_1[32] + 4.3 * valto_1[33] + 3.96 * valto_1[34] + 4.95 * valto_1[35] + 4.14 * valto_1[36] + 4.09 * valto_1[37] + 5.91 * valto_1[38] + 5.04 * valto_1[39] + 4.5 * valto_1[40] + 5.18 * valto_1[41] + 4.55 * valto_1[42] + 4.77 * valto_1[43] + 4.06 * valto_1[44] + 5.11 * valto_1[45] + 4.07 * valto_1[46] + 4.72 * valto_1[47] + 5.48 * valto_1[48] + 4.04 * valto_1[49] + 4.51 * valto_2[0] + 4.73 * valto_2[1] + 4.27 * valto_2[2] + 3.98 * valto_2[3] + 5.5 * valto_2[4] + 4.19 * valto_2[5] + 4.26 * valto_2[6] + 4.66 * valto_2[7] + 4.7 * valto_2[8] + 4.23 * valto_2[9] + 4.21 * valto_2[10] + 4.58 * valto_2[11] + 4.21 * valto_2[12] + 4.78 * valto_2[13] + 4.04 * valto_2[14] + 4.57 * valto_2[15] + 4.29 * valto_2[16] + 6.23 * valto_2[17] + 4.46 * valto_2[18] + 3.96 * valto_2[19] + 4.15 * valto_2[20] + 4.4 * valto_2[21] + 4.51 * valto_2[22] + 6.92 * valto_2[23] + 4.57 * valto_2[24] + 4.23 * valto_2[25] + 4.76 * valto_2[26] + 5.85 * valto_2[27] + 5.01 * valto_2[28] + 8.68 * valto_2[29] + 4.93 * valto_2[30] + 4.03 * valto_2[31] + 4.72 * valto_2[32] + 4.3 * valto_2[33] + 3.96 * valto_2[34] + 4.95 * valto_2[35] + 4.14 * valto_2[36] + 4.09 * valto_2[37] + 5.91 * valto_2[38] + 5.04 * valto_2[39] + 4.5 * valto_2[40] + 5.18 * valto_2[41] + 4.55 * valto_2[42] + 4.77 * valto_2[43] + 4.06 * valto_2[44] + 5.11 * valto_2[45] + 4.07 * valto_2[46] + 4.72 * valto_2[47] + 5.48 * valto_2[48] + 4.04 * valto_2[49] + 4.51 * valto_3[0] + 4.73 * valto_3[1] + 4.27 * valto_3[2] + 3.98 * valto_3[3] + 5.5 * valto_3[4] + 4.19 * valto_3[5] + 4.26 * valto_3[6] + 4.66 * valto_3[7] + 4.7 * valto_3[8] + 4.23 * valto_3[9] + 4.21 * valto_3[10] + 4.58 * valto_3[11] + 4.21 * valto_3[12] + 4.78 * valto_3[13] + 4.04 * valto_3[14] + 4.57 * valto_3[15] + 4.29 * valto_3[16] + 6.23 * valto_3[17] + 4.46 * valto_3[18] + 3.96 * valto_3[19] + 4.15 * valto_3[20] + 4.4 * valto_3[21] + 4.51 * valto_3[22] + 6.92 * valto_3[23] + 4.57 * valto_3[24] + 4.23 * valto_3[25] + 4.76 * valto_3[26] + 5.85 * valto_3[27] + 5.01 * valto_3[28] + 8.68 * valto_3[29] + 4.93 * valto_3[30] + 4.03 * valto_3[31] + 4.72 * valto_3[32] + 4.3 * valto_3[33] + 3.96 * valto_3[34] + 4.95 * valto_3[35] + 4.14 * valto_3[36] + 4.09 * valto_3[37] + 5.91 * valto_3[38] + 5.04 * valto_3[39] + 4.5 * valto_3[40] + 5.18 * valto_3[41] + 4.55 * valto_3[42] + 4.77 * valto_3[43] + 4.06 * valto_3[44] + 5.11 * valto_3[45] + 4.07 * valto_3[46] + 4.72 * valto_3[47] + 5.48 * valto_3[48] + 4.04 * valto_3[49] + 4.51 * valto_4[0] + 4.73 * valto_4[1] + 4.27 * valto_4[2] + 3.98 * valto_4[3] + 5.5 * valto_4[4] + 4.19 * valto_4[5] + 4.26 * valto_4[6] + 4.66 * valto_4[7] + 4.7 * valto_4[8] + 4.23 * valto_4[9] + 4.21 * valto_4[10] + 4.58 * valto_4[11] + 4.21 * valto_4[12] + 4.78 * valto_4[13] + 4.04 * valto_4[14] + 4.57 * valto_4[15] + 4.29 * valto_4[16] + 6.23 * valto_4[17] + 4.46 * valto_4[18] + 3.96 * valto_4[19] + 4.15 * valto_4[20] + 4.4 * valto_4[21] + 4.51 * valto_4[22] + 6.92 * valto_4[23] + 4.57 * valto_4[24] + 4.23 * valto_4[25] + 4.76 * valto_4[26] + 5.85 * valto_4[27] + 5.01 * valto_4[28] + 8.68 * valto_4[29] + 4.93 * valto_4[30] + 4.03 * valto_4[31] + 4.72 * valto_4[32] + 4.3 * valto_4[33] + 3.96 * valto_4[34] + 4.95 * valto_4[35] + 4.14 * valto_4[36] + 4.09 * valto_4[37] + 5.91 * valto_4[38] + 5.04 * valto_4[39] + 4.5 * valto_4[40] + 5.18 * valto_4[41] + 4.55 * valto_4[42] + 4.77 * valto_4[43] + 4.06 * valto_4[44] + 5.11 * valto_4[45] + 4.07 * valto_4[46] + 4.72 * valto_4[47] + 5.48 * valto_4[48] + 4.04 * valto_4[49], name='total_time_obj')"
      ]
     },
     "execution_count": 26,
     "metadata": {},
     "output_type": "execute_result"
    }
   ],
   "source": [
    "#Cél - ez az összeg legyen minimális\n",
    "model.set_objective(total_time, name='total_time_obj', sense=so.minimize)"
   ]
  },
  {
   "cell_type": "code",
   "execution_count": 30,
   "id": "8f27fdf2-f2a2-48c8-9f67-7800d56e2264",
   "metadata": {
    "tags": []
   },
   "outputs": [],
   "source": [
    "#Korlátok bevezetése"
   ]
  },
  {
   "cell_type": "code",
   "execution_count": 30,
   "id": "20cbe8c2-0a0b-4990-8e60-386aefcdade1",
   "metadata": {
    "tags": []
   },
   "outputs": [],
   "source": [
    "#a váltó tagjainak különbözniük kell:\n",
    "\n",
    "model.add_constraints((valto_1[i] + valto_2[i] + valto_3[i] + valto_4[i] <= 1 for i in kutyak), name='diff_valto');"
   ]
  },
  {
   "cell_type": "code",
   "execution_count": 33,
   "id": "ab33c063-5c20-41ee-b94d-7eb186a44213",
   "metadata": {
    "tags": []
   },
   "outputs": [],
   "source": [
    "#egy kutya lehet egyidőben a váltó 1 pontján:\n",
    "\n",
    "model.add_constraints(so.expr_sum(valto_1[i] for i in kutyak) == 1, name ='first_kutya');\n",
    "#ugyanezt a váltó többi három helyére is..."
   ]
  },
  {
   "cell_type": "markdown",
   "id": "ffec8f37-d588-45dd-ab50-3c690920610e",
   "metadata": {},
   "source": [
    "#Többi korlátot megfogalmazni:\n",
    "- gát magassága\n",
    "- poziciókban futó kutyák\n",
    "- időjárási tényezők"
   ]
  },
  {
   "cell_type": "code",
   "execution_count": null,
   "id": "6b16615a-1389-47e6-a97e-39ffdd932ac0",
   "metadata": {},
   "outputs": [],
   "source": []
  }
 ],
 "metadata": {
  "kernelspec": {
   "display_name": "Python 3 (ipykernel)",
   "language": "python",
   "name": "python3"
  },
  "language_info": {
   "codemirror_mode": {
    "name": "ipython",
    "version": 3
   },
   "file_extension": ".py",
   "mimetype": "text/x-python",
   "name": "python",
   "nbconvert_exporter": "python",
   "pygments_lexer": "ipython3",
   "version": "3.11.4"
  }
 },
 "nbformat": 4,
 "nbformat_minor": 5
}
