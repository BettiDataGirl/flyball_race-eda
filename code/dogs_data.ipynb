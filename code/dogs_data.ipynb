{
 "cells": [
  {
   "cell_type": "markdown",
   "id": "e71a8323-1f1a-4ff4-828f-dd7abcb3b767",
   "metadata": {},
   "source": [
    "### Kutyák tulajdonságainak táblázat - adattisztítás\n",
    "FlyballKutya.jpynb"
   ]
  },
  {
   "cell_type": "markdown",
   "id": "586b218b-5ce1-45ca-bfc0-0ce848c56f0e",
   "metadata": {},
   "source": [
    "Adattisztítás a kutya táblán:\n",
    "\n",
    "- adattípusok ellenőrzése\n",
    "- kiugró adatok az ulna_hossz oszlopban, az ugrási magassággal sem korrelál 4 adat, egy-egy nagyságrenddel felfelé ill. lefelé térnek el\n",
    "- fajta elnevezések egységesítése:\n",
    "- border collie: 1. mind legyen kisbetű 2. border == border collie\n",
    "- keverék == mix"
   ]
  },
  {
   "cell_type": "code",
   "execution_count": 76,
   "id": "0a68208c-746e-4fe6-967e-93dcae0d8d20",
   "metadata": {
    "tags": []
   },
   "outputs": [
    {
     "data": {
      "text/html": [
       "<div>\n",
       "<style scoped>\n",
       "    .dataframe tbody tr th:only-of-type {\n",
       "        vertical-align: middle;\n",
       "    }\n",
       "\n",
       "    .dataframe tbody tr th {\n",
       "        vertical-align: top;\n",
       "    }\n",
       "\n",
       "    .dataframe thead th {\n",
       "        text-align: right;\n",
       "    }\n",
       "</style>\n",
       "<table border=\"1\" class=\"dataframe\">\n",
       "  <thead>\n",
       "    <tr style=\"text-align: right;\">\n",
       "      <th></th>\n",
       "      <th>felvezeto</th>\n",
       "      <th>nev</th>\n",
       "      <th>fajta</th>\n",
       "      <th>nem</th>\n",
       "      <th>ivar</th>\n",
       "      <th>szuletesi_datum</th>\n",
       "      <th>chip_szam</th>\n",
       "      <th>ulna_hossz</th>\n",
       "      <th>ugrasi_magassag</th>\n",
       "    </tr>\n",
       "  </thead>\n",
       "  <tbody>\n",
       "    <tr>\n",
       "      <th>0</th>\n",
       "      <td>TM800418</td>\n",
       "      <td>Dexter</td>\n",
       "      <td>Kooikerhondje</td>\n",
       "      <td>kan</td>\n",
       "      <td>ivartalan</td>\n",
       "      <td>2010-02-14</td>\n",
       "      <td>93900005238999</td>\n",
       "      <td>14.05</td>\n",
       "      <td>25.0</td>\n",
       "    </tr>\n",
       "    <tr>\n",
       "      <th>1</th>\n",
       "      <td>NP950613</td>\n",
       "      <td>Jasper</td>\n",
       "      <td>Border Collie</td>\n",
       "      <td>kan</td>\n",
       "      <td>ivartalan</td>\n",
       "      <td>2011-03-28</td>\n",
       "      <td>93900007189034</td>\n",
       "      <td>16.56</td>\n",
       "      <td>30.0</td>\n",
       "    </tr>\n",
       "    <tr>\n",
       "      <th>2</th>\n",
       "      <td>UF830429</td>\n",
       "      <td>Angie</td>\n",
       "      <td>Border</td>\n",
       "      <td>szuka</td>\n",
       "      <td>ivartalan</td>\n",
       "      <td>2014-02-06</td>\n",
       "      <td>93900003827629</td>\n",
       "      <td>15.22</td>\n",
       "      <td>27.5</td>\n",
       "    </tr>\n",
       "    <tr>\n",
       "      <th>3</th>\n",
       "      <td>ZE801127</td>\n",
       "      <td>Alex</td>\n",
       "      <td>Border Collie</td>\n",
       "      <td>kan</td>\n",
       "      <td>ivartalan</td>\n",
       "      <td>2014-04-22</td>\n",
       "      <td>93900003598960</td>\n",
       "      <td>17.95</td>\n",
       "      <td>32.5</td>\n",
       "    </tr>\n",
       "    <tr>\n",
       "      <th>4</th>\n",
       "      <td>DP910919</td>\n",
       "      <td>Ashley</td>\n",
       "      <td>border collie</td>\n",
       "      <td>szuka</td>\n",
       "      <td>ivartalan</td>\n",
       "      <td>2015-01-26</td>\n",
       "      <td>93900009738344</td>\n",
       "      <td>18.30</td>\n",
       "      <td>32.5</td>\n",
       "    </tr>\n",
       "  </tbody>\n",
       "</table>\n",
       "</div>"
      ],
      "text/plain": [
       "  felvezeto     nev          fajta    nem       ivar szuletesi_datum  \\\n",
       "0  TM800418  Dexter  Kooikerhondje    kan  ivartalan      2010-02-14   \n",
       "1  NP950613  Jasper  Border Collie    kan  ivartalan      2011-03-28   \n",
       "2  UF830429   Angie         Border  szuka  ivartalan      2014-02-06   \n",
       "3  ZE801127    Alex  Border Collie    kan  ivartalan      2014-04-22   \n",
       "4  DP910919  Ashley  border collie  szuka  ivartalan      2015-01-26   \n",
       "\n",
       "        chip_szam  ulna_hossz  ugrasi_magassag  \n",
       "0  93900005238999       14.05             25.0  \n",
       "1  93900007189034       16.56             30.0  \n",
       "2  93900003827629       15.22             27.5  \n",
       "3  93900003598960       17.95             32.5  \n",
       "4  93900009738344       18.30             32.5  "
      ]
     },
     "execution_count": 76,
     "metadata": {},
     "output_type": "execute_result"
    }
   ],
   "source": [
    "#Kutyák adatait tartalmazó fájl:\n",
    "import pandas as pd\n",
    "\n",
    "kutya = pd.read_excel('./../data/Wild_Runners_Flyball_Team_kutyak_alapadatai.xlsx', sheet_name='Munkalap1')\n",
    "kutya.head(5)"
   ]
  },
  {
   "cell_type": "code",
   "execution_count": 77,
   "id": "cdaad3d5-889d-48a6-8d46-e0aeac868411",
   "metadata": {
    "tags": []
   },
   "outputs": [
    {
     "data": {
      "text/plain": [
       "array(['Kooikerhondje', 'Border Collie', 'Border', 'border collie',\n",
       "       'American Staffordshire Terrier', 'Jack Russell Terrier',\n",
       "       'Keverék', 'Magyar Vizsla', 'Mix', 'Australian Kelpie',\n",
       "       'Parson Russell terrier', 'Small schnauzer', 'Sheltie',\n",
       "       'BorderCollie', 'Australian Shepperd',\n",
       "       'Belgian shepherd - Malinois', 'Patterdale terrier', 'Mudi',\n",
       "       'Whippet'], dtype=object)"
      ]
     },
     "execution_count": 77,
     "metadata": {},
     "output_type": "execute_result"
    }
   ],
   "source": [
    "#Kutya fajta oszlop tisztítása:\n",
    "\n",
    "#Hányféle néven futnak a border collie-k?\n",
    "kutya.groupby('fajta').count()\n",
    "kutya['fajta'].unique() #add egy listát a különböző kutyatípusokról: 3 néven futnak a border colliek"
   ]
  },
  {
   "cell_type": "code",
   "execution_count": 78,
   "id": "94e07e5e-bd72-4028-99f8-dd5cff4beeba",
   "metadata": {
    "tags": []
   },
   "outputs": [
    {
     "data": {
      "text/plain": [
       "array(['kooikerhondje', 'border collie', 'american staffordshire terrier',\n",
       "       'jack russell terrier', 'mix', 'magyar vizsla',\n",
       "       'australian kelpie', 'parson russell terrier', 'small schnauzer',\n",
       "       'sheltie', 'australian shepperd', 'belgian shepherd - malinois',\n",
       "       'patterdale terrier', 'mudi', 'whippet'], dtype=object)"
      ]
     },
     "execution_count": 78,
     "metadata": {},
     "output_type": "execute_result"
    }
   ],
   "source": [
    "kutya['fajta'] = kutya['fajta'].str.lower() #kisbetű legyen mindegyik\n",
    "\n",
    "kutya[kutya['fajta'].str.contains('border')] #lista, a border szót tartalmazó sorokkal\n",
    "\n",
    "kutya['fajta'] = kutya['fajta'].str.replace('border collie', 'border') \n",
    "kutya['fajta'] = kutya['fajta'].str.replace('bordercollie', 'border')\n",
    "kutya['fajta'] = kutya['fajta'].str.replace('border', 'border collie')\n",
    "\n",
    "kutya['fajta'] = kutya['fajta'].str.replace('keverék', 'mix') \n",
    "kutya['fajta'].unique() #ellenőrzés: egy név alatt fut az összes border collie, és egy mix van"
   ]
  },
  {
   "cell_type": "code",
   "execution_count": 79,
   "id": "3f49bf99-6f95-46e6-af0e-5f9d238d682e",
   "metadata": {
    "tags": []
   },
   "outputs": [
    {
     "data": {
      "text/plain": [
       "count    51.000000\n",
       "mean     15.856863\n",
       "std       2.043564\n",
       "min       9.670000\n",
       "25%      15.015000\n",
       "50%      16.010000\n",
       "75%      17.615000\n",
       "max      18.300000\n",
       "Name: ulna_hossz, dtype: float64"
      ]
     },
     "execution_count": 79,
     "metadata": {},
     "output_type": "execute_result"
    }
   ],
   "source": [
    "#Kiugró adatok az ulna_hossz oszlopban:\n",
    "\n",
    "kutya['ulna_hossz'].describe() #min: 1.209, max: 175.5\n",
    "\n",
    "kutya[kutya['ulna_hossz'] < 5] #10 és 16 indexek lefelé térnek el egy nagyságrenddel\n",
    "kutya[kutya['ulna_hossz'] > 25] #25 és 37 indexűek felfelé térnek el egy nagyságrenddel\n",
    "\n",
    "kutya.loc[10,'ulna_hossz'] = 14.91\n",
    "kutya.loc[16,'ulna_hossz'] = 12.09\n",
    "kutya.loc[25,'ulna_hossz'] = 17.55\n",
    "kutya.loc[37,'ulna_hossz'] = 15.28\n",
    "\n",
    "kutya['ulna_hossz'].describe() #javítás után a min: 9.67, max: 18.3"
   ]
  },
  {
   "cell_type": "code",
   "execution_count": 80,
   "id": "3c0cfa32-abf6-4fd4-abe5-f20cf1ae260c",
   "metadata": {
    "tags": []
   },
   "outputs": [],
   "source": [
    "#A tisztitott táblák mentése:\n",
    "kutya.to_csv('./../data/kutya.csv')"
   ]
  },
  {
   "cell_type": "code",
   "execution_count": null,
   "id": "51ccaa29-f91e-4dd8-8683-5824e2e3e99c",
   "metadata": {},
   "outputs": [],
   "source": []
  }
 ],
 "metadata": {
  "kernelspec": {
   "display_name": "Python 3 (ipykernel)",
   "language": "python",
   "name": "python3"
  },
  "language_info": {
   "codemirror_mode": {
    "name": "ipython",
    "version": 3
   },
   "file_extension": ".py",
   "mimetype": "text/x-python",
   "name": "python",
   "nbconvert_exporter": "python",
   "pygments_lexer": "ipython3",
   "version": "3.11.4"
  }
 },
 "nbformat": 4,
 "nbformat_minor": 5
}
